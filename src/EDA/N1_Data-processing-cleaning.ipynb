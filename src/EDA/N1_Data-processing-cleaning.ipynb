{
 "cells": [
  {
   "cell_type": "markdown",
   "metadata": {},
   "source": [
    "# InsurIQ: Data Processing and Cleaning\n",
    "\n",
    "In this notebook, we will load the datasets, clean them and save them in a cleaner format. \n",
    "\n",
    "## 1. Import Function"
   ]
  },
  {
   "cell_type": "code",
   "execution_count": 1,
   "metadata": {},
   "outputs": [],
   "source": [
    "import pandas as pd\n",
    "\n",
    "from sklearn.impute import KNNImputer"
   ]
  },
  {
   "cell_type": "markdown",
   "metadata": {},
   "source": [
    "## 2. Utility Functions"
   ]
  },
  {
   "cell_type": "code",
   "execution_count": 2,
   "metadata": {},
   "outputs": [],
   "source": [
    "def load_dataset(filepath: str) -> pd.DataFrame:\n",
    "    df = pd.read_csv(filepath)\n",
    "    print(df.shape)\n",
    "    print(df.head(3))\n",
    "    return df"
   ]
  },
  {
   "cell_type": "code",
   "execution_count": 3,
   "metadata": {},
   "outputs": [],
   "source": [
    "def count_null_values(df: pd.DataFrame):\n",
    "    temp_null_values = df.isnull().sum()\n",
    "    print(temp_null_values[temp_null_values > 0])"
   ]
  },
  {
   "cell_type": "markdown",
   "metadata": {},
   "source": [
    "## 3. Load Datasets\n",
    "\n",
    "This dataset contains records of individuals along with their demographic, health, and lifestyle attributes, as well as health insurance claim amounts.\n",
    "\n",
    "Source: [Kaggle](https://www.kaggle.com/datasets/sureshgupta/health-insurance-data-set)"
   ]
  },
  {
   "cell_type": "code",
   "execution_count": 4,
   "metadata": {},
   "outputs": [
    {
     "name": "stdout",
     "output_type": "stream",
     "text": [
      "(15000, 13)\n",
      "    age     sex  weight   bmi hereditary_diseases  no_of_dependents  smoker  \\\n",
      "0  60.0    male      64  24.3           NoDisease                 1       0   \n",
      "1  49.0  female      75  22.6           NoDisease                 1       0   \n",
      "2  32.0  female      64  17.8            Epilepsy                 2       1   \n",
      "\n",
      "          city  bloodpressure  diabetes  regular_ex    job_title    claim  \n",
      "0      NewYork             72         0           0        Actor  13112.6  \n",
      "1       Boston             78         1           1     Engineer   9567.0  \n",
      "2  Phildelphia             88         1           1  Academician  32734.2  \n"
     ]
    },
    {
     "data": {
      "text/html": [
       "<div>\n",
       "<style scoped>\n",
       "    .dataframe tbody tr th:only-of-type {\n",
       "        vertical-align: middle;\n",
       "    }\n",
       "\n",
       "    .dataframe tbody tr th {\n",
       "        vertical-align: top;\n",
       "    }\n",
       "\n",
       "    .dataframe thead th {\n",
       "        text-align: right;\n",
       "    }\n",
       "</style>\n",
       "<table border=\"1\" class=\"dataframe\">\n",
       "  <thead>\n",
       "    <tr style=\"text-align: right;\">\n",
       "      <th></th>\n",
       "      <th>age</th>\n",
       "      <th>weight</th>\n",
       "      <th>bmi</th>\n",
       "      <th>no_of_dependents</th>\n",
       "      <th>smoker</th>\n",
       "      <th>bloodpressure</th>\n",
       "      <th>diabetes</th>\n",
       "      <th>regular_ex</th>\n",
       "      <th>claim</th>\n",
       "    </tr>\n",
       "  </thead>\n",
       "  <tbody>\n",
       "    <tr>\n",
       "      <th>count</th>\n",
       "      <td>14604.000000</td>\n",
       "      <td>15000.000000</td>\n",
       "      <td>14044.000000</td>\n",
       "      <td>15000.000000</td>\n",
       "      <td>15000.000000</td>\n",
       "      <td>15000.000000</td>\n",
       "      <td>15000.000000</td>\n",
       "      <td>15000.000000</td>\n",
       "      <td>15000.000000</td>\n",
       "    </tr>\n",
       "    <tr>\n",
       "      <th>mean</th>\n",
       "      <td>39.547521</td>\n",
       "      <td>64.909600</td>\n",
       "      <td>30.266413</td>\n",
       "      <td>1.129733</td>\n",
       "      <td>0.198133</td>\n",
       "      <td>68.650133</td>\n",
       "      <td>0.777000</td>\n",
       "      <td>0.224133</td>\n",
       "      <td>13401.437620</td>\n",
       "    </tr>\n",
       "    <tr>\n",
       "      <th>std</th>\n",
       "      <td>14.015966</td>\n",
       "      <td>13.701935</td>\n",
       "      <td>6.122950</td>\n",
       "      <td>1.228469</td>\n",
       "      <td>0.398606</td>\n",
       "      <td>19.418515</td>\n",
       "      <td>0.416272</td>\n",
       "      <td>0.417024</td>\n",
       "      <td>12148.239619</td>\n",
       "    </tr>\n",
       "    <tr>\n",
       "      <th>min</th>\n",
       "      <td>18.000000</td>\n",
       "      <td>34.000000</td>\n",
       "      <td>16.000000</td>\n",
       "      <td>0.000000</td>\n",
       "      <td>0.000000</td>\n",
       "      <td>0.000000</td>\n",
       "      <td>0.000000</td>\n",
       "      <td>0.000000</td>\n",
       "      <td>1121.900000</td>\n",
       "    </tr>\n",
       "    <tr>\n",
       "      <th>25%</th>\n",
       "      <td>27.000000</td>\n",
       "      <td>54.000000</td>\n",
       "      <td>25.700000</td>\n",
       "      <td>0.000000</td>\n",
       "      <td>0.000000</td>\n",
       "      <td>64.000000</td>\n",
       "      <td>1.000000</td>\n",
       "      <td>0.000000</td>\n",
       "      <td>4846.900000</td>\n",
       "    </tr>\n",
       "    <tr>\n",
       "      <th>50%</th>\n",
       "      <td>40.000000</td>\n",
       "      <td>63.000000</td>\n",
       "      <td>29.400000</td>\n",
       "      <td>1.000000</td>\n",
       "      <td>0.000000</td>\n",
       "      <td>71.000000</td>\n",
       "      <td>1.000000</td>\n",
       "      <td>0.000000</td>\n",
       "      <td>9545.650000</td>\n",
       "    </tr>\n",
       "    <tr>\n",
       "      <th>75%</th>\n",
       "      <td>52.000000</td>\n",
       "      <td>76.000000</td>\n",
       "      <td>34.400000</td>\n",
       "      <td>2.000000</td>\n",
       "      <td>0.000000</td>\n",
       "      <td>80.000000</td>\n",
       "      <td>1.000000</td>\n",
       "      <td>0.000000</td>\n",
       "      <td>16519.125000</td>\n",
       "    </tr>\n",
       "    <tr>\n",
       "      <th>max</th>\n",
       "      <td>64.000000</td>\n",
       "      <td>95.000000</td>\n",
       "      <td>53.100000</td>\n",
       "      <td>5.000000</td>\n",
       "      <td>1.000000</td>\n",
       "      <td>122.000000</td>\n",
       "      <td>1.000000</td>\n",
       "      <td>1.000000</td>\n",
       "      <td>63770.400000</td>\n",
       "    </tr>\n",
       "  </tbody>\n",
       "</table>\n",
       "</div>"
      ],
      "text/plain": [
       "                age        weight           bmi  no_of_dependents  \\\n",
       "count  14604.000000  15000.000000  14044.000000      15000.000000   \n",
       "mean      39.547521     64.909600     30.266413          1.129733   \n",
       "std       14.015966     13.701935      6.122950          1.228469   \n",
       "min       18.000000     34.000000     16.000000          0.000000   \n",
       "25%       27.000000     54.000000     25.700000          0.000000   \n",
       "50%       40.000000     63.000000     29.400000          1.000000   \n",
       "75%       52.000000     76.000000     34.400000          2.000000   \n",
       "max       64.000000     95.000000     53.100000          5.000000   \n",
       "\n",
       "             smoker  bloodpressure      diabetes    regular_ex         claim  \n",
       "count  15000.000000   15000.000000  15000.000000  15000.000000  15000.000000  \n",
       "mean       0.198133      68.650133      0.777000      0.224133  13401.437620  \n",
       "std        0.398606      19.418515      0.416272      0.417024  12148.239619  \n",
       "min        0.000000       0.000000      0.000000      0.000000   1121.900000  \n",
       "25%        0.000000      64.000000      1.000000      0.000000   4846.900000  \n",
       "50%        0.000000      71.000000      1.000000      0.000000   9545.650000  \n",
       "75%        0.000000      80.000000      1.000000      0.000000  16519.125000  \n",
       "max        1.000000     122.000000      1.000000      1.000000  63770.400000  "
      ]
     },
     "execution_count": 4,
     "metadata": {},
     "output_type": "execute_result"
    }
   ],
   "source": [
    "df_health_demographics_claims = load_dataset('../../data/raw/CSVs/1651277648862_healthinsurance.csv')\n",
    "\n",
    "df_health_demographics_claims.describe()"
   ]
  },
  {
   "cell_type": "markdown",
   "metadata": {},
   "source": [
    "This dataset contains records of individuals along with their demographic, lifestyle attributes, as well as health insurance claim amounts.\n",
    "\n",
    "Source: [Kaggle](https://www.kaggle.com/code/adirozeri/us-health-insurance-dataset/input)"
   ]
  },
  {
   "cell_type": "code",
   "execution_count": 5,
   "metadata": {},
   "outputs": [
    {
     "name": "stdout",
     "output_type": "stream",
     "text": [
      "(1338, 7)\n",
      "   age     sex    bmi  children smoker     region     charges\n",
      "0   19  female  27.90         0    yes  southwest  16884.9240\n",
      "1   18    male  33.77         1     no  southeast   1725.5523\n",
      "2   28    male  33.00         3     no  southeast   4449.4620\n"
     ]
    }
   ],
   "source": [
    "df_demographics_claims = load_dataset('../../data/raw/CSVs/insurance.csv')"
   ]
  },
  {
   "cell_type": "markdown",
   "metadata": {},
   "source": [
    "This dataset contains records of insured individuals (Employer-Sponsored Health Insurance (ESI) Coverage Among Private-Sector Workers) with their demographic along these years.\n",
    "\n",
    "Source: [Kaggle](https://www.kaggle.com/datasets/asaniczka/health-insurance-coverage-in-the-usa-1979-2019/data)"
   ]
  },
  {
   "cell_type": "code",
   "execution_count": 6,
   "metadata": {},
   "outputs": [
    {
     "name": "stdout",
     "output_type": "stream",
     "text": [
      "(41, 17)\n",
      "   year   all  white  black  hispanic   men  white_men  black_men  \\\n",
      "0  2019  53.8   58.0   52.6      41.4  56.8       62.0       53.8   \n",
      "1  2018  52.6   56.8   51.1      39.8  55.1       60.2       51.8   \n",
      "2  2017  54.0   57.3   52.1      43.0  57.1       61.4       53.6   \n",
      "\n",
      "   hispanic_men  women  white_women  black_women  hispanic_women  high_school  \\\n",
      "0          42.4   50.4         53.2         51.5            40.0         46.9   \n",
      "1          40.9   49.6         52.6         50.4            38.3         46.0   \n",
      "2          44.4   50.2         52.4         50.8            41.1         47.6   \n",
      "\n",
      "   bachelors_degree  recent_high-school_graduate  recent_college_graduate  \n",
      "0              63.2                         16.3                     37.0  \n",
      "1              62.5                         14.3                     41.6  \n",
      "2              64.1                         15.8                     37.0  \n"
     ]
    }
   ],
   "source": [
    "df_demographics = load_dataset('../../data/raw/CSVs/health_insurance_coverage.csv')"
   ]
  },
  {
   "cell_type": "markdown",
   "metadata": {},
   "source": [
    "This dataset contains records of individuals insured/uninsured in the United States by Age along these years. Some statistical inference is also provided.\n",
    "\n",
    "Source: [data.gov](https://catalog.data.gov/dataset/indicators-of-health-insurance-coverage-at-the-time-of-interview)"
   ]
  },
  {
   "cell_type": "code",
   "execution_count": 7,
   "metadata": {},
   "outputs": [
    {
     "name": "stdout",
     "output_type": "stream",
     "text": [
      "(16056, 16)\n",
      "                            Indicator              Group          State  \\\n",
      "0  Uninsured at the Time of Interview  National Estimate  United States   \n",
      "1  Uninsured at the Time of Interview             By Age  United States   \n",
      "2  Uninsured at the Time of Interview             By Age  United States   \n",
      "\n",
      "        Subgroup Phase  Time Period     Time Period Label  \\\n",
      "0  United States     1            1  Apr 23 - May 5, 2020   \n",
      "1  18 - 24 years     1            1  Apr 23 - May 5, 2020   \n",
      "2  25 - 34 years     1            1  Apr 23 - May 5, 2020   \n",
      "\n",
      "  Time Period Start Date Time Period End Date  Value  Low CI  High CI  \\\n",
      "0             04/23/2020           05/05/2020   12.6    12.1     13.3   \n",
      "1             04/23/2020           05/05/2020   17.7    14.2     21.6   \n",
      "2             04/23/2020           05/05/2020   16.8    15.6     18.1   \n",
      "\n",
      "  Confidence Interval Quartile Range  Quartile Number  Suppression Flag  \n",
      "0         12.1 - 13.3            NaN              NaN               NaN  \n",
      "1         14.2 - 21.6            NaN              NaN               NaN  \n",
      "2         15.6 - 18.1            NaN              NaN               NaN  \n"
     ]
    }
   ],
   "source": [
    "df_demographics_stats = load_dataset('../../data/raw/CSVs/Indicators_of_Health_Insurance_Coverage_at_the_Time_of_Interview_20250226.csv')"
   ]
  },
  {
   "cell_type": "markdown",
   "metadata": {},
   "source": [
    "This dataset provides health insurance coverage data for each state and the nation as a whole, including variables such as the uninsured rates before and after Obamacare, estimates of individuals covered by employer and marketplace healthcare plans, and enrollment in Medicare and Medicaid programs.\n",
    "\n",
    "Source: [Kaggle](https://www.kaggle.com/datasets/hhs/health-insurance)"
   ]
  },
  {
   "cell_type": "code",
   "execution_count": 8,
   "metadata": {},
   "outputs": [
    {
     "name": "stdout",
     "output_type": "stream",
     "text": [
      "(52, 14)\n",
      "      State Uninsured Rate (2010) Uninsured Rate (2015)  \\\n",
      "0  Alabama                  14.6%                 10.1%   \n",
      "1   Alaska                  19.9%                 14.9%   \n",
      "2  Arizona                  16.9%                 10.8%   \n",
      "\n",
      "  Uninsured Rate Change (2010-2015)  \\\n",
      "0                            -4.5%    \n",
      "1                              -5%    \n",
      "2                            -6.1%    \n",
      "\n",
      "   Health Insurance Coverage Change (2010-2015)  \\\n",
      "0                                        215000   \n",
      "1                                         36000   \n",
      "2                                        410000   \n",
      "\n",
      "   Employer Health Insurance Coverage (2015)  \\\n",
      "0                                    2545000   \n",
      "1                                     390000   \n",
      "2                                    3288000   \n",
      "\n",
      "   Marketplace Health Insurance Coverage (2016)  \\\n",
      "0                                        165534   \n",
      "1                                         17995   \n",
      "2                                        179445   \n",
      "\n",
      "   Marketplace Tax Credits (2016) Average Monthly Tax Credit (2016)  \\\n",
      "0                          152206                             $310    \n",
      "1                           16205                             $750    \n",
      "2                          124346                             $230    \n",
      "\n",
      "  State Medicaid Expansion (2016)  Medicaid Enrollment (2013)  \\\n",
      "0                           False                    799176.0   \n",
      "1                            True                    122334.0   \n",
      "2                            True                   1201770.0   \n",
      "\n",
      "   Medicaid Enrollment (2016)  Medicaid Enrollment Change (2013-2016)  \\\n",
      "0                      910775                                111599.0   \n",
      "1                      166625                                 44291.0   \n",
      "2                     1716198                                514428.0   \n",
      "\n",
      "   Medicare Enrollment (2016)  \n",
      "0                      989855  \n",
      "1                       88966  \n",
      "2                     1175624  \n"
     ]
    }
   ],
   "source": [
    "df_states_stats = load_dataset('../../data/raw/CSVs/states.csv')"
   ]
  },
  {
   "cell_type": "markdown",
   "metadata": {},
   "source": [
    "## 4. Data Cleaning\n",
    "\n",
    "### 4.1 Health-Demographics-Claims dataset"
   ]
  },
  {
   "cell_type": "code",
   "execution_count": 9,
   "metadata": {},
   "outputs": [
    {
     "name": "stdout",
     "output_type": "stream",
     "text": [
      "age    396\n",
      "bmi    956\n",
      "dtype: int64\n"
     ]
    }
   ],
   "source": [
    "count_null_values(df_health_demographics_claims)"
   ]
  },
  {
   "cell_type": "markdown",
   "metadata": {},
   "source": [
    "seems like there are a few empty values. We need to do some sort of imputation."
   ]
  },
  {
   "cell_type": "code",
   "execution_count": 10,
   "metadata": {},
   "outputs": [
    {
     "name": "stdout",
     "output_type": "stream",
     "text": [
      "Series([], dtype: int64)\n"
     ]
    }
   ],
   "source": [
    "imputer = KNNImputer(n_neighbors=3)\n",
    "temp_columns_to_impute = [\"age\", \"bmi\"]\n",
    "df_health_demographics_claims[temp_columns_to_impute] = pd.DataFrame(imputer.fit_transform(df_health_demographics_claims[temp_columns_to_impute]))\n",
    "count_null_values(df_health_demographics_claims)"
   ]
  },
  {
   "cell_type": "code",
   "execution_count": 11,
   "metadata": {},
   "outputs": [
    {
     "data": {
      "text/html": [
       "<div>\n",
       "<style scoped>\n",
       "    .dataframe tbody tr th:only-of-type {\n",
       "        vertical-align: middle;\n",
       "    }\n",
       "\n",
       "    .dataframe tbody tr th {\n",
       "        vertical-align: top;\n",
       "    }\n",
       "\n",
       "    .dataframe thead th {\n",
       "        text-align: right;\n",
       "    }\n",
       "</style>\n",
       "<table border=\"1\" class=\"dataframe\">\n",
       "  <thead>\n",
       "    <tr style=\"text-align: right;\">\n",
       "      <th></th>\n",
       "      <th>age</th>\n",
       "      <th>weight</th>\n",
       "      <th>bmi</th>\n",
       "      <th>no_of_dependents</th>\n",
       "      <th>smoker</th>\n",
       "      <th>bloodpressure</th>\n",
       "      <th>diabetes</th>\n",
       "      <th>regular_ex</th>\n",
       "      <th>claim</th>\n",
       "    </tr>\n",
       "  </thead>\n",
       "  <tbody>\n",
       "    <tr>\n",
       "      <th>count</th>\n",
       "      <td>15000.000000</td>\n",
       "      <td>15000.000000</td>\n",
       "      <td>15000.000000</td>\n",
       "      <td>15000.000000</td>\n",
       "      <td>15000.000000</td>\n",
       "      <td>15000.000000</td>\n",
       "      <td>15000.000000</td>\n",
       "      <td>15000.000000</td>\n",
       "      <td>15000.000000</td>\n",
       "    </tr>\n",
       "    <tr>\n",
       "      <th>mean</th>\n",
       "      <td>39.541711</td>\n",
       "      <td>64.909600</td>\n",
       "      <td>30.254804</td>\n",
       "      <td>1.129733</td>\n",
       "      <td>0.198133</td>\n",
       "      <td>68.650133</td>\n",
       "      <td>0.777000</td>\n",
       "      <td>0.224133</td>\n",
       "      <td>13401.437620</td>\n",
       "    </tr>\n",
       "    <tr>\n",
       "      <th>std</th>\n",
       "      <td>13.948940</td>\n",
       "      <td>13.701935</td>\n",
       "      <td>6.029389</td>\n",
       "      <td>1.228469</td>\n",
       "      <td>0.398606</td>\n",
       "      <td>19.418515</td>\n",
       "      <td>0.416272</td>\n",
       "      <td>0.417024</td>\n",
       "      <td>12148.239619</td>\n",
       "    </tr>\n",
       "    <tr>\n",
       "      <th>min</th>\n",
       "      <td>18.000000</td>\n",
       "      <td>34.000000</td>\n",
       "      <td>16.000000</td>\n",
       "      <td>0.000000</td>\n",
       "      <td>0.000000</td>\n",
       "      <td>0.000000</td>\n",
       "      <td>0.000000</td>\n",
       "      <td>0.000000</td>\n",
       "      <td>1121.900000</td>\n",
       "    </tr>\n",
       "    <tr>\n",
       "      <th>25%</th>\n",
       "      <td>27.000000</td>\n",
       "      <td>54.000000</td>\n",
       "      <td>25.800000</td>\n",
       "      <td>0.000000</td>\n",
       "      <td>0.000000</td>\n",
       "      <td>64.000000</td>\n",
       "      <td>1.000000</td>\n",
       "      <td>0.000000</td>\n",
       "      <td>4846.900000</td>\n",
       "    </tr>\n",
       "    <tr>\n",
       "      <th>50%</th>\n",
       "      <td>40.000000</td>\n",
       "      <td>63.000000</td>\n",
       "      <td>29.300000</td>\n",
       "      <td>1.000000</td>\n",
       "      <td>0.000000</td>\n",
       "      <td>71.000000</td>\n",
       "      <td>1.000000</td>\n",
       "      <td>0.000000</td>\n",
       "      <td>9545.650000</td>\n",
       "    </tr>\n",
       "    <tr>\n",
       "      <th>75%</th>\n",
       "      <td>52.000000</td>\n",
       "      <td>76.000000</td>\n",
       "      <td>34.300000</td>\n",
       "      <td>2.000000</td>\n",
       "      <td>0.000000</td>\n",
       "      <td>80.000000</td>\n",
       "      <td>1.000000</td>\n",
       "      <td>0.000000</td>\n",
       "      <td>16519.125000</td>\n",
       "    </tr>\n",
       "    <tr>\n",
       "      <th>max</th>\n",
       "      <td>64.000000</td>\n",
       "      <td>95.000000</td>\n",
       "      <td>53.100000</td>\n",
       "      <td>5.000000</td>\n",
       "      <td>1.000000</td>\n",
       "      <td>122.000000</td>\n",
       "      <td>1.000000</td>\n",
       "      <td>1.000000</td>\n",
       "      <td>63770.400000</td>\n",
       "    </tr>\n",
       "  </tbody>\n",
       "</table>\n",
       "</div>"
      ],
      "text/plain": [
       "                age        weight           bmi  no_of_dependents  \\\n",
       "count  15000.000000  15000.000000  15000.000000      15000.000000   \n",
       "mean      39.541711     64.909600     30.254804          1.129733   \n",
       "std       13.948940     13.701935      6.029389          1.228469   \n",
       "min       18.000000     34.000000     16.000000          0.000000   \n",
       "25%       27.000000     54.000000     25.800000          0.000000   \n",
       "50%       40.000000     63.000000     29.300000          1.000000   \n",
       "75%       52.000000     76.000000     34.300000          2.000000   \n",
       "max       64.000000     95.000000     53.100000          5.000000   \n",
       "\n",
       "             smoker  bloodpressure      diabetes    regular_ex         claim  \n",
       "count  15000.000000   15000.000000  15000.000000  15000.000000  15000.000000  \n",
       "mean       0.198133      68.650133      0.777000      0.224133  13401.437620  \n",
       "std        0.398606      19.418515      0.416272      0.417024  12148.239619  \n",
       "min        0.000000       0.000000      0.000000      0.000000   1121.900000  \n",
       "25%        0.000000      64.000000      1.000000      0.000000   4846.900000  \n",
       "50%        0.000000      71.000000      1.000000      0.000000   9545.650000  \n",
       "75%        0.000000      80.000000      1.000000      0.000000  16519.125000  \n",
       "max        1.000000     122.000000      1.000000      1.000000  63770.400000  "
      ]
     },
     "execution_count": 11,
     "metadata": {},
     "output_type": "execute_result"
    }
   ],
   "source": [
    "df_health_demographics_claims.describe()"
   ]
  },
  {
   "cell_type": "markdown",
   "metadata": {},
   "source": [
    "Okay, great! Now we don't have any more missing values left in this dataset! We can save it for future use in the next section.\n",
    "\n",
    "### 4.2 Demographics-Claims dataset"
   ]
  },
  {
   "cell_type": "code",
   "execution_count": 12,
   "metadata": {},
   "outputs": [
    {
     "name": "stdout",
     "output_type": "stream",
     "text": [
      "Series([], dtype: int64)\n"
     ]
    }
   ],
   "source": [
    "count_null_values(df_demographics_claims)"
   ]
  },
  {
   "cell_type": "code",
   "execution_count": 13,
   "metadata": {},
   "outputs": [
    {
     "data": {
      "text/html": [
       "<div>\n",
       "<style scoped>\n",
       "    .dataframe tbody tr th:only-of-type {\n",
       "        vertical-align: middle;\n",
       "    }\n",
       "\n",
       "    .dataframe tbody tr th {\n",
       "        vertical-align: top;\n",
       "    }\n",
       "\n",
       "    .dataframe thead th {\n",
       "        text-align: right;\n",
       "    }\n",
       "</style>\n",
       "<table border=\"1\" class=\"dataframe\">\n",
       "  <thead>\n",
       "    <tr style=\"text-align: right;\">\n",
       "      <th></th>\n",
       "      <th>age</th>\n",
       "      <th>bmi</th>\n",
       "      <th>children</th>\n",
       "      <th>charges</th>\n",
       "    </tr>\n",
       "  </thead>\n",
       "  <tbody>\n",
       "    <tr>\n",
       "      <th>count</th>\n",
       "      <td>1338.000000</td>\n",
       "      <td>1338.000000</td>\n",
       "      <td>1338.000000</td>\n",
       "      <td>1338.000000</td>\n",
       "    </tr>\n",
       "    <tr>\n",
       "      <th>mean</th>\n",
       "      <td>39.207025</td>\n",
       "      <td>30.663397</td>\n",
       "      <td>1.094918</td>\n",
       "      <td>13270.422265</td>\n",
       "    </tr>\n",
       "    <tr>\n",
       "      <th>std</th>\n",
       "      <td>14.049960</td>\n",
       "      <td>6.098187</td>\n",
       "      <td>1.205493</td>\n",
       "      <td>12110.011237</td>\n",
       "    </tr>\n",
       "    <tr>\n",
       "      <th>min</th>\n",
       "      <td>18.000000</td>\n",
       "      <td>15.960000</td>\n",
       "      <td>0.000000</td>\n",
       "      <td>1121.873900</td>\n",
       "    </tr>\n",
       "    <tr>\n",
       "      <th>25%</th>\n",
       "      <td>27.000000</td>\n",
       "      <td>26.296250</td>\n",
       "      <td>0.000000</td>\n",
       "      <td>4740.287150</td>\n",
       "    </tr>\n",
       "    <tr>\n",
       "      <th>50%</th>\n",
       "      <td>39.000000</td>\n",
       "      <td>30.400000</td>\n",
       "      <td>1.000000</td>\n",
       "      <td>9382.033000</td>\n",
       "    </tr>\n",
       "    <tr>\n",
       "      <th>75%</th>\n",
       "      <td>51.000000</td>\n",
       "      <td>34.693750</td>\n",
       "      <td>2.000000</td>\n",
       "      <td>16639.912515</td>\n",
       "    </tr>\n",
       "    <tr>\n",
       "      <th>max</th>\n",
       "      <td>64.000000</td>\n",
       "      <td>53.130000</td>\n",
       "      <td>5.000000</td>\n",
       "      <td>63770.428010</td>\n",
       "    </tr>\n",
       "  </tbody>\n",
       "</table>\n",
       "</div>"
      ],
      "text/plain": [
       "               age          bmi     children       charges\n",
       "count  1338.000000  1338.000000  1338.000000   1338.000000\n",
       "mean     39.207025    30.663397     1.094918  13270.422265\n",
       "std      14.049960     6.098187     1.205493  12110.011237\n",
       "min      18.000000    15.960000     0.000000   1121.873900\n",
       "25%      27.000000    26.296250     0.000000   4740.287150\n",
       "50%      39.000000    30.400000     1.000000   9382.033000\n",
       "75%      51.000000    34.693750     2.000000  16639.912515\n",
       "max      64.000000    53.130000     5.000000  63770.428010"
      ]
     },
     "execution_count": 13,
     "metadata": {},
     "output_type": "execute_result"
    }
   ],
   "source": [
    "df_demographics_claims.describe()"
   ]
  },
  {
   "cell_type": "markdown",
   "metadata": {},
   "source": [
    "Oh, wow! we dont have any empty values here, we will just save it as it is now in the next section again.\n",
    "\n",
    "### 4.3 Demographics dataset"
   ]
  },
  {
   "cell_type": "code",
   "execution_count": 14,
   "metadata": {},
   "outputs": [
    {
     "name": "stdout",
     "output_type": "stream",
     "text": [
      "recent_high-school_graduate    7\n",
      "recent_college_graduate        7\n",
      "dtype: int64\n"
     ]
    }
   ],
   "source": [
    "count_null_values(df_demographics)"
   ]
  },
  {
   "cell_type": "markdown",
   "metadata": {},
   "source": [
    "We have 7 rows with missing values. We will impute it using K-Nearest Neighors."
   ]
  },
  {
   "cell_type": "code",
   "execution_count": 15,
   "metadata": {},
   "outputs": [
    {
     "name": "stdout",
     "output_type": "stream",
     "text": [
      "Series([], dtype: int64)\n"
     ]
    }
   ],
   "source": [
    "imputer = KNNImputer(n_neighbors=3)\n",
    "temp_columns_to_impute = [\"recent_high-school_graduate\", \"recent_college_graduate\"]\n",
    "df_demographics[temp_columns_to_impute] = pd.DataFrame(imputer.fit_transform(df_demographics[temp_columns_to_impute]))\n",
    "count_null_values(df_demographics)"
   ]
  },
  {
   "cell_type": "code",
   "execution_count": 16,
   "metadata": {},
   "outputs": [
    {
     "data": {
      "text/html": [
       "<div>\n",
       "<style scoped>\n",
       "    .dataframe tbody tr th:only-of-type {\n",
       "        vertical-align: middle;\n",
       "    }\n",
       "\n",
       "    .dataframe tbody tr th {\n",
       "        vertical-align: top;\n",
       "    }\n",
       "\n",
       "    .dataframe thead th {\n",
       "        text-align: right;\n",
       "    }\n",
       "</style>\n",
       "<table border=\"1\" class=\"dataframe\">\n",
       "  <thead>\n",
       "    <tr style=\"text-align: right;\">\n",
       "      <th></th>\n",
       "      <th>year</th>\n",
       "      <th>all</th>\n",
       "      <th>white</th>\n",
       "      <th>black</th>\n",
       "      <th>hispanic</th>\n",
       "      <th>men</th>\n",
       "      <th>white_men</th>\n",
       "      <th>black_men</th>\n",
       "      <th>hispanic_men</th>\n",
       "      <th>women</th>\n",
       "      <th>white_women</th>\n",
       "      <th>black_women</th>\n",
       "      <th>hispanic_women</th>\n",
       "      <th>high_school</th>\n",
       "      <th>bachelors_degree</th>\n",
       "      <th>recent_high-school_graduate</th>\n",
       "      <th>recent_college_graduate</th>\n",
       "    </tr>\n",
       "  </thead>\n",
       "  <tbody>\n",
       "    <tr>\n",
       "      <th>count</th>\n",
       "      <td>41.000000</td>\n",
       "      <td>41.000000</td>\n",
       "      <td>41.000000</td>\n",
       "      <td>41.000000</td>\n",
       "      <td>41.000000</td>\n",
       "      <td>41.000000</td>\n",
       "      <td>41.000000</td>\n",
       "      <td>41.000000</td>\n",
       "      <td>41.000000</td>\n",
       "      <td>41.000000</td>\n",
       "      <td>41.000000</td>\n",
       "      <td>41.000000</td>\n",
       "      <td>41.000000</td>\n",
       "      <td>41.000000</td>\n",
       "      <td>41.000000</td>\n",
       "      <td>41.000000</td>\n",
       "      <td>41.000000</td>\n",
       "    </tr>\n",
       "    <tr>\n",
       "      <th>mean</th>\n",
       "      <td>1999.000000</td>\n",
       "      <td>58.829268</td>\n",
       "      <td>62.036585</td>\n",
       "      <td>54.885366</td>\n",
       "      <td>44.363415</td>\n",
       "      <td>63.002439</td>\n",
       "      <td>67.490244</td>\n",
       "      <td>56.053659</td>\n",
       "      <td>44.958537</td>\n",
       "      <td>53.539024</td>\n",
       "      <td>55.185366</td>\n",
       "      <td>53.648780</td>\n",
       "      <td>43.412195</td>\n",
       "      <td>55.848780</td>\n",
       "      <td>71.156098</td>\n",
       "      <td>22.547059</td>\n",
       "      <td>54.170588</td>\n",
       "    </tr>\n",
       "    <tr>\n",
       "      <th>std</th>\n",
       "      <td>11.979149</td>\n",
       "      <td>5.612898</td>\n",
       "      <td>4.559592</td>\n",
       "      <td>4.779151</td>\n",
       "      <td>7.898600</td>\n",
       "      <td>6.775230</td>\n",
       "      <td>5.473016</td>\n",
       "      <td>5.799616</td>\n",
       "      <td>8.904380</td>\n",
       "      <td>3.857776</td>\n",
       "      <td>3.050702</td>\n",
       "      <td>3.730022</td>\n",
       "      <td>6.386752</td>\n",
       "      <td>7.599182</td>\n",
       "      <td>5.686697</td>\n",
       "      <td>6.894209</td>\n",
       "      <td>10.013804</td>\n",
       "    </tr>\n",
       "    <tr>\n",
       "      <th>min</th>\n",
       "      <td>1979.000000</td>\n",
       "      <td>51.600000</td>\n",
       "      <td>56.300000</td>\n",
       "      <td>48.500000</td>\n",
       "      <td>35.600000</td>\n",
       "      <td>54.200000</td>\n",
       "      <td>60.200000</td>\n",
       "      <td>47.800000</td>\n",
       "      <td>34.900000</td>\n",
       "      <td>48.600000</td>\n",
       "      <td>51.200000</td>\n",
       "      <td>48.500000</td>\n",
       "      <td>36.100000</td>\n",
       "      <td>45.200000</td>\n",
       "      <td>62.500000</td>\n",
       "      <td>11.800000</td>\n",
       "      <td>34.100000</td>\n",
       "    </tr>\n",
       "    <tr>\n",
       "      <th>25%</th>\n",
       "      <td>1989.000000</td>\n",
       "      <td>54.000000</td>\n",
       "      <td>58.200000</td>\n",
       "      <td>52.100000</td>\n",
       "      <td>39.400000</td>\n",
       "      <td>57.100000</td>\n",
       "      <td>62.700000</td>\n",
       "      <td>52.700000</td>\n",
       "      <td>39.300000</td>\n",
       "      <td>50.400000</td>\n",
       "      <td>53.200000</td>\n",
       "      <td>50.800000</td>\n",
       "      <td>39.300000</td>\n",
       "      <td>48.400000</td>\n",
       "      <td>66.500000</td>\n",
       "      <td>17.000000</td>\n",
       "      <td>48.900000</td>\n",
       "    </tr>\n",
       "    <tr>\n",
       "      <th>50%</th>\n",
       "      <td>1999.000000</td>\n",
       "      <td>58.300000</td>\n",
       "      <td>61.700000</td>\n",
       "      <td>53.900000</td>\n",
       "      <td>41.600000</td>\n",
       "      <td>62.600000</td>\n",
       "      <td>67.100000</td>\n",
       "      <td>53.900000</td>\n",
       "      <td>42.300000</td>\n",
       "      <td>53.000000</td>\n",
       "      <td>54.600000</td>\n",
       "      <td>52.800000</td>\n",
       "      <td>40.800000</td>\n",
       "      <td>55.600000</td>\n",
       "      <td>71.600000</td>\n",
       "      <td>22.547059</td>\n",
       "      <td>55.700000</td>\n",
       "    </tr>\n",
       "    <tr>\n",
       "      <th>75%</th>\n",
       "      <td>2009.000000</td>\n",
       "      <td>61.500000</td>\n",
       "      <td>64.000000</td>\n",
       "      <td>55.700000</td>\n",
       "      <td>46.000000</td>\n",
       "      <td>66.700000</td>\n",
       "      <td>70.400000</td>\n",
       "      <td>56.800000</td>\n",
       "      <td>45.800000</td>\n",
       "      <td>54.800000</td>\n",
       "      <td>55.700000</td>\n",
       "      <td>54.900000</td>\n",
       "      <td>44.700000</td>\n",
       "      <td>60.700000</td>\n",
       "      <td>75.000000</td>\n",
       "      <td>26.200000</td>\n",
       "      <td>59.800000</td>\n",
       "    </tr>\n",
       "    <tr>\n",
       "      <th>max</th>\n",
       "      <td>2019.000000</td>\n",
       "      <td>70.500000</td>\n",
       "      <td>71.800000</td>\n",
       "      <td>65.500000</td>\n",
       "      <td>62.200000</td>\n",
       "      <td>77.100000</td>\n",
       "      <td>78.900000</td>\n",
       "      <td>69.000000</td>\n",
       "      <td>66.600000</td>\n",
       "      <td>61.300000</td>\n",
       "      <td>61.700000</td>\n",
       "      <td>62.700000</td>\n",
       "      <td>59.300000</td>\n",
       "      <td>70.700000</td>\n",
       "      <td>81.500000</td>\n",
       "      <td>43.100000</td>\n",
       "      <td>72.100000</td>\n",
       "    </tr>\n",
       "  </tbody>\n",
       "</table>\n",
       "</div>"
      ],
      "text/plain": [
       "              year        all      white      black   hispanic        men  \\\n",
       "count    41.000000  41.000000  41.000000  41.000000  41.000000  41.000000   \n",
       "mean   1999.000000  58.829268  62.036585  54.885366  44.363415  63.002439   \n",
       "std      11.979149   5.612898   4.559592   4.779151   7.898600   6.775230   \n",
       "min    1979.000000  51.600000  56.300000  48.500000  35.600000  54.200000   \n",
       "25%    1989.000000  54.000000  58.200000  52.100000  39.400000  57.100000   \n",
       "50%    1999.000000  58.300000  61.700000  53.900000  41.600000  62.600000   \n",
       "75%    2009.000000  61.500000  64.000000  55.700000  46.000000  66.700000   \n",
       "max    2019.000000  70.500000  71.800000  65.500000  62.200000  77.100000   \n",
       "\n",
       "       white_men  black_men  hispanic_men      women  white_women  \\\n",
       "count  41.000000  41.000000     41.000000  41.000000    41.000000   \n",
       "mean   67.490244  56.053659     44.958537  53.539024    55.185366   \n",
       "std     5.473016   5.799616      8.904380   3.857776     3.050702   \n",
       "min    60.200000  47.800000     34.900000  48.600000    51.200000   \n",
       "25%    62.700000  52.700000     39.300000  50.400000    53.200000   \n",
       "50%    67.100000  53.900000     42.300000  53.000000    54.600000   \n",
       "75%    70.400000  56.800000     45.800000  54.800000    55.700000   \n",
       "max    78.900000  69.000000     66.600000  61.300000    61.700000   \n",
       "\n",
       "       black_women  hispanic_women  high_school  bachelors_degree  \\\n",
       "count    41.000000       41.000000    41.000000         41.000000   \n",
       "mean     53.648780       43.412195    55.848780         71.156098   \n",
       "std       3.730022        6.386752     7.599182          5.686697   \n",
       "min      48.500000       36.100000    45.200000         62.500000   \n",
       "25%      50.800000       39.300000    48.400000         66.500000   \n",
       "50%      52.800000       40.800000    55.600000         71.600000   \n",
       "75%      54.900000       44.700000    60.700000         75.000000   \n",
       "max      62.700000       59.300000    70.700000         81.500000   \n",
       "\n",
       "       recent_high-school_graduate  recent_college_graduate  \n",
       "count                    41.000000                41.000000  \n",
       "mean                     22.547059                54.170588  \n",
       "std                       6.894209                10.013804  \n",
       "min                      11.800000                34.100000  \n",
       "25%                      17.000000                48.900000  \n",
       "50%                      22.547059                55.700000  \n",
       "75%                      26.200000                59.800000  \n",
       "max                      43.100000                72.100000  "
      ]
     },
     "execution_count": 16,
     "metadata": {},
     "output_type": "execute_result"
    }
   ],
   "source": [
    "df_demographics.describe()"
   ]
  },
  {
   "cell_type": "markdown",
   "metadata": {},
   "source": [
    "Looks all good now! We will save the data in the next step!\n",
    "\n",
    "### 4.4 Demoghraphics Stats Dataset"
   ]
  },
  {
   "cell_type": "code",
   "execution_count": 17,
   "metadata": {},
   "outputs": [
    {
     "name": "stdout",
     "output_type": "stream",
     "text": [
      "Value                    911\n",
      "Low CI                   911\n",
      "High CI                  911\n",
      "Confidence Interval      911\n",
      "Quartile Range          5039\n",
      "Quartile Number         5040\n",
      "Suppression Flag       15757\n",
      "dtype: int64\n"
     ]
    }
   ],
   "source": [
    "count_null_values(df_demographics_stats)"
   ]
  },
  {
   "cell_type": "code",
   "execution_count": 18,
   "metadata": {},
   "outputs": [
    {
     "data": {
      "text/plain": [
       "(16056, 16)"
      ]
     },
     "execution_count": 18,
     "metadata": {},
     "output_type": "execute_result"
    }
   ],
   "source": [
    "df_demographics_stats.shape"
   ]
  },
  {
   "cell_type": "markdown",
   "metadata": {},
   "source": [
    "There are so many missing values here, I don't know if I should really impute in this case, especially because it is a calculated value that is missing!\n",
    "\n",
    "Hence, for now - I will just leave it as it is.\n",
    "\n",
    "### 4.5 States Stats Dataset"
   ]
  },
  {
   "cell_type": "code",
   "execution_count": 19,
   "metadata": {},
   "outputs": [
    {
     "name": "stdout",
     "output_type": "stream",
     "text": [
      "State Medicaid Expansion (2016)           1\n",
      "Medicaid Enrollment (2013)                2\n",
      "Medicaid Enrollment Change (2013-2016)    2\n",
      "dtype: int64\n"
     ]
    }
   ],
   "source": [
    "count_null_values(df_states_stats)"
   ]
  },
  {
   "cell_type": "markdown",
   "metadata": {},
   "source": [
    "I am for now only doing an initial analysis on this dataset (probably won't even use these columns now, so will do the imputation tasks later)."
   ]
  },
  {
   "cell_type": "markdown",
   "metadata": {},
   "source": [
    "## 5. Save cleaned data"
   ]
  },
  {
   "cell_type": "code",
   "execution_count": 20,
   "metadata": {},
   "outputs": [],
   "source": [
    "df_health_demographics_claims.to_csv('../../data/clean/health_demographics_claims.csv', index=False)"
   ]
  },
  {
   "cell_type": "code",
   "execution_count": 21,
   "metadata": {},
   "outputs": [],
   "source": [
    "df_demographics_claims.to_csv('../../data/clean/demographics_claims.csv', index=False)"
   ]
  },
  {
   "cell_type": "code",
   "execution_count": 22,
   "metadata": {},
   "outputs": [],
   "source": [
    "df_demographics.to_csv('../../data/clean/demographics.csv', index=False)"
   ]
  },
  {
   "cell_type": "code",
   "execution_count": 23,
   "metadata": {},
   "outputs": [],
   "source": [
    "df_demographics_stats.to_csv('../../data/clean/demographics_stats.csv', index=False)"
   ]
  },
  {
   "cell_type": "code",
   "execution_count": 24,
   "metadata": {},
   "outputs": [],
   "source": [
    "df_states_stats.to_csv('../../data/clean/states_stats.csv', index=False)"
   ]
  },
  {
   "cell_type": "code",
   "execution_count": null,
   "metadata": {},
   "outputs": [],
   "source": []
  }
 ],
 "metadata": {
  "kernelspec": {
   "display_name": "Pixi - Python 3 (ipykernel)",
   "language": "python",
   "name": "pixi-kernel-python3"
  },
  "language_info": {
   "codemirror_mode": {
    "name": "ipython",
    "version": 3
   },
   "file_extension": ".py",
   "mimetype": "text/x-python",
   "name": "python",
   "nbconvert_exporter": "python",
   "pygments_lexer": "ipython3",
   "version": "3.11.11"
  }
 },
 "nbformat": 4,
 "nbformat_minor": 2
}
